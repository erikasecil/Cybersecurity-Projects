{
 "cells": [
  {
   "cell_type": "markdown",
   "id": "94a1707d-85bd-42f2-b48c-47d2a6262ba5",
   "metadata": {},
   "source": [
    "Here I am learning how to encrypt and decrypt a message. \n",
    "\n",
    "Reference: https://www.geeksforgeeks.org/how-to-encrypt-and-decrypt-strings-in-python/"
   ]
  },
  {
   "cell_type": "markdown",
   "id": "3c17a58b-7ef1-4cea-873b-ba3c7c1d886d",
   "metadata": {},
   "source": [
    "Symmetric-key encryption: In symmetric-key encryption, the data is encoded and decoded with the same key. This is the easiest way of encryption, but also less secure. The receiver needs the key for decryption, so a safe way need for transferring keys. Anyone with the key can read the data in the middle."
   ]
  },
  {
   "cell_type": "code",
   "execution_count": 4,
   "id": "36f9d4f3-7aac-4c56-8e0a-0fe914b7d83c",
   "metadata": {},
   "outputs": [
    {
     "name": "stdin",
     "output_type": "stream",
     "text": [
      "STATEMET 123\n"
     ]
    },
    {
     "name": "stdout",
     "output_type": "stream",
     "text": [
      "original string:  123\n",
      "encrypted string:  b'gAAAAABmsmNx1twYaXP8oZSR7EqBg33NirazBLYvmNhSh1MRUQ1MthGN66HiU7tUowX5FJ2ZlOjo25xaTgUW2uBKMgEZF0bS4w=='\n",
      "your decrypted string is:  123\n"
     ]
    }
   ],
   "source": [
    "from cryptography.fernet import Fernet\n",
    " \n",
    "#Ask user to input string\n",
    "message = input('STATEMET')\n",
    " \n",
    "# generate a key usin fernet class for encryption and decryption\n",
    " \n",
    "key = Fernet.generate_key()\n",
    " \n",
    "# Instance the Fernet class with the key\n",
    " \n",
    "fernet = Fernet(key)\n",
    " \n",
    "# Encrypt the string\n",
    "encMessage = fernet.encrypt(message.encode())\n",
    " \n",
    "print(\"original string: \", message)\n",
    "print(\"encrypted string: \", encMessage)\n",
    " \n",
    "# decrypt the encrypted string with the Fernet instance of the key\n",
    "decMessage = fernet.decrypt(encMessage).decode()\n",
    " \n",
    "print(\"your decrypted string is: \", decMessage)"
   ]
  },
  {
   "cell_type": "markdown",
   "id": "95295abb-1e1b-4d33-a53c-4c103bb182c4",
   "metadata": {},
   "source": [
    "Asymmetric-key Encryption: In Asymmetric-key Encryption, we use two keys a public key and a private key. The public key is used to encrypt the data and the private key is used to decrypt the data. By the name, the public key can be public (can be sent to anyone who needs to send data). No one has your private key, so no one in the middle can read your data."
   ]
  },
  {
   "cell_type": "code",
   "execution_count": 11,
   "id": "33106009-2b72-413a-baea-c26c8d9b0aee",
   "metadata": {},
   "outputs": [
    {
     "name": "stdout",
     "output_type": "stream",
     "text": [
      "Requirement already satisfied: pip in c:\\users\\erika\\anaconda3\\lib\\site-packages (24.1.1)\n",
      "Collecting pip\n",
      "  Downloading pip-24.2-py3-none-any.whl.metadata (3.6 kB)\n",
      "Downloading pip-24.2-py3-none-any.whl (1.8 MB)\n",
      "   ---------------------------------------- 0.0/1.8 MB ? eta -:--:--\n",
      "   ------------------------ --------------- 1.1/1.8 MB 35.3 MB/s eta 0:00:01\n",
      "   ---------------------------------------- 1.8/1.8 MB 38.4 MB/s eta 0:00:00\n",
      "Installing collected packages: pip\n",
      "  Attempting uninstall: pip\n",
      "    Found existing installation: pip 24.1.1\n",
      "    Uninstalling pip-24.1.1:\n",
      "      Successfully uninstalled pip-24.1.1\n",
      "Successfully installed pip-24.2\n",
      "Note: you may need to restart the kernel to use updated packages.\n"
     ]
    }
   ],
   "source": [
    "pip install --upgrade pip\n"
   ]
  },
  {
   "cell_type": "code",
   "execution_count": 12,
   "id": "14e5f3e5-d6ca-41a4-ba28-12ee71168f0c",
   "metadata": {},
   "outputs": [
    {
     "name": "stdout",
     "output_type": "stream",
     "text": [
      "Requirement already satisfied: rsa in c:\\users\\erika\\anaconda3\\lib\\site-packages (4.9)\n",
      "Requirement already satisfied: pyasn1>=0.1.3 in c:\\users\\erika\\anaconda3\\lib\\site-packages (from rsa) (0.4.8)\n",
      "Note: you may need to restart the kernel to use updated packages.\n"
     ]
    }
   ],
   "source": [
    "pip install rsa"
   ]
  },
  {
   "cell_type": "code",
   "execution_count": 14,
   "id": "b1ced00f-8ba5-4919-b1e7-7d2e461239b6",
   "metadata": {},
   "outputs": [
    {
     "name": "stdin",
     "output_type": "stream",
     "text": [
      "STATEMET this is a big test for this encryption and decryption\n"
     ]
    },
    {
     "name": "stdout",
     "output_type": "stream",
     "text": [
      "private key:  PublicKey(7900067759032254239669784723015824161187519566173994159606787367778295951865787536229545786637015553635028781413147325768563546514414491590307047566157091, 65537)\n",
      "public key:  PrivateKey(7900067759032254239669784723015824161187519566173994159606787367778295951865787536229545786637015553635028781413147325768563546514414491590307047566157091, 65537, 2566856018139872465622906081936905254868654983324061700026960803965256784719853236407017447807224734035789802186063411481674116480276054840721638095893473, 4641920644586506284585608468045276888233205493726748345553754091672806135781430251, 1701896340741080824929304994247470816813371668896799603162716747424316841)\n",
      "original string:  this is a big test for this encryption and decryption\n",
      "encrypted string:  b'=\\xc2\\x1d\\x88\\x86\\xba\\xb5\\xf8\\x05rS\\xc8Z\\xda\\xf7\\xf8\\x8eH\\xf8\\xc2X\\xb6\\xaa\\x8f\\xae$]\\\\\\xf7m\\x9d\\xe7\\xba\\x8b\\x1c\\x9b\\x1d\\xc6\\xdc\\xe7[\\x14\\x859\\x19\\xab\\x05\\x12i\\xea\\xf6\\xa1\\xe6\\xa2)\\x998\\x91\\xe6wA\\xa7&{'\n",
      "decrypted string:  this is a big test for this encryption and decryption\n"
     ]
    }
   ],
   "source": [
    "import rsa\n",
    "\n",
    "# generate public and private keys with \n",
    "# rsa.newkeys method,this method accepts \n",
    "# key length as its parameter\n",
    "# key length should be atleast 16\n",
    "publicKey, privateKey = rsa.newkeys(512)\n",
    "\n",
    "#Ask user to input string\n",
    "message = input('STATEMET')\n",
    "\n",
    "# rsa.encrypt method is used to encrypt \n",
    "# string with public key string should be \n",
    "# encode to byte string before encryption \n",
    "# with encode method\n",
    "encMessage = rsa.encrypt(message.encode(), \n",
    "\t\t\t\t\t\tpublicKey)\n",
    "# Want to see public and private keys\n",
    "print(\"private key: \", publicKey)\n",
    "print(\"public key: \", privateKey)\n",
    "\n",
    "print(\"original string: \", message)\n",
    "print(\"encrypted string: \", encMessage)\n",
    "\n",
    "# the encrypted message can be decrypted \n",
    "# with ras.decrypt method and private key\n",
    "# decrypt method returns encoded byte string,\n",
    "# use decode method to convert it to string\n",
    "# public key cannot be used for decryption\n",
    "decMessage = rsa.decrypt(encMessage, privateKey).decode()\n",
    "\n",
    "print(\"decrypted string: \", decMessage)\n"
   ]
  },
  {
   "cell_type": "code",
   "execution_count": null,
   "id": "bd0b82f9-1997-40ee-8173-2447bf2a0836",
   "metadata": {},
   "outputs": [],
   "source": []
  }
 ],
 "metadata": {
  "kernelspec": {
   "display_name": "Python 3 (ipykernel)",
   "language": "python",
   "name": "python3"
  },
  "language_info": {
   "codemirror_mode": {
    "name": "ipython",
    "version": 3
   },
   "file_extension": ".py",
   "mimetype": "text/x-python",
   "name": "python",
   "nbconvert_exporter": "python",
   "pygments_lexer": "ipython3",
   "version": "3.11.5"
  }
 },
 "nbformat": 4,
 "nbformat_minor": 5
}

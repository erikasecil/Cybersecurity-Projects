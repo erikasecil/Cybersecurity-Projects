{
 "cells": [
  {
   "cell_type": "markdown",
   "id": "f4453f30-b052-443e-8e68-334390b7b38a",
   "metadata": {},
   "source": [
    "Here I am learning how to encrypt and decrypt a file.\n",
    "\n",
    "Reference: https://www.geeksforgeeks.org/encrypt-and-decrypt-files-using-python/"
   ]
  },
  {
   "cell_type": "code",
   "execution_count": 11,
   "id": "b05c9972-c825-444f-9215-62dcc9598180",
   "metadata": {},
   "outputs": [
    {
     "name": "stdout",
     "output_type": "stream",
     "text": [
      "Requirement already satisfied: cryptography in c:\\users\\erika\\anaconda3\\lib\\site-packages (41.0.7)\n",
      "Requirement already satisfied: cffi>=1.12 in c:\\users\\erika\\anaconda3\\lib\\site-packages (from cryptography) (1.16.0)\n",
      "Requirement already satisfied: pycparser in c:\\users\\erika\\anaconda3\\lib\\site-packages (from cffi>=1.12->cryptography) (2.21)\n",
      "Note: you may need to restart the kernel to use updated packages.\n"
     ]
    }
   ],
   "source": [
    "pip install cryptography"
   ]
  },
  {
   "cell_type": "code",
   "execution_count": 12,
   "id": "c3f89884-7d12-42bc-a181-4f80cb545c11",
   "metadata": {},
   "outputs": [],
   "source": [
    "# import required module\n",
    "from cryptography.fernet import Fernet"
   ]
  },
  {
   "cell_type": "code",
   "execution_count": 13,
   "id": "cb3c6544-7e83-4fac-8f90-224ca5fb7a04",
   "metadata": {},
   "outputs": [],
   "source": [
    "# key generation\n",
    "key = Fernet.generate_key()\n",
    " \n",
    "# string the key in a file\n",
    "with open('filekey.key', 'wb') as filekey:\n",
    "   filekey.write(key)"
   ]
  },
  {
   "cell_type": "markdown",
   "id": "45eb7474-81ce-4311-9b7c-5408caa34604",
   "metadata": {},
   "source": [
    "Encryting the file"
   ]
  },
  {
   "cell_type": "code",
   "execution_count": 14,
   "id": "d57c7b53-c193-40da-8a45-3c500a87a363",
   "metadata": {},
   "outputs": [],
   "source": [
    "# opening the key\n",
    "with open('filekey.key', 'rb') as filekey:\n",
    "    key = filekey.read()\n",
    " \n",
    "# using the generated key\n",
    "fernet = Fernet(key)\n",
    " \n",
    "# opening the original file to encrypt\n",
    "with open('Testing-csv-file.csv', 'rb') as file:\n",
    "    original = file.read()\n",
    "     \n",
    "# encrypting the file\n",
    "encrypted = fernet.encrypt(original)\n",
    " \n",
    "# opening the file in write mode and \n",
    "# writing the encrypted data\n",
    "with open('Testing-csv-file-encrypted.csv', 'wb') as encrypted_file:\n",
    "    encrypted_file.write(encrypted)"
   ]
  },
  {
   "cell_type": "markdown",
   "id": "6d7c68bb-e0f1-4afe-baf1-84c9f094b3e1",
   "metadata": {},
   "source": [
    "Decrypting the file"
   ]
  },
  {
   "cell_type": "code",
   "execution_count": 15,
   "id": "f8a2fe5e-5e97-40db-b194-bb6172d8bfce",
   "metadata": {},
   "outputs": [],
   "source": [
    "# using the key\n",
    "fernet = Fernet(key)\n",
    " \n",
    "# opening the encrypted file\n",
    "with open('Testing-csv-file-encrypted.csv', 'rb') as enc_file:\n",
    "    encrypted = enc_file.read()\n",
    " \n",
    "# decrypting the file\n",
    "decrypted = fernet.decrypt(encrypted)\n",
    " \n",
    "# opening the file in write mode and\n",
    "# writing the decrypted data\n",
    "with open('Testing-csv-file-decrypted.csv', 'wb') as dec_file:\n",
    "    dec_file.write(decrypted)"
   ]
  },
  {
   "cell_type": "code",
   "execution_count": null,
   "id": "45798f5a-1e26-40e2-b395-ca32df75c249",
   "metadata": {},
   "outputs": [],
   "source": []
  }
 ],
 "metadata": {
  "kernelspec": {
   "display_name": "Python 3 (ipykernel)",
   "language": "python",
   "name": "python3"
  },
  "language_info": {
   "codemirror_mode": {
    "name": "ipython",
    "version": 3
   },
   "file_extension": ".py",
   "mimetype": "text/x-python",
   "name": "python",
   "nbconvert_exporter": "python",
   "pygments_lexer": "ipython3",
   "version": "3.11.5"
  }
 },
 "nbformat": 4,
 "nbformat_minor": 5
}
